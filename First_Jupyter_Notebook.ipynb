{
 "cells": [
  {
   "cell_type": "markdown",
   "id": "8dad5d3f-e4e8-4c6d-9038-8bb012e1d205",
   "metadata": {},
   "source": [
    "# Data Science Tools And Ecosystem"
   ]
  },
  {
   "cell_type": "markdown",
   "id": "18e7c241-8549-4b5a-b4e2-c15822b88d61",
   "metadata": {},
   "source": [
    "In this notebook, Data Science Tools And Ecosystem are summarized"
   ]
  },
  {
   "cell_type": "markdown",
   "id": "56b52c77-d5bb-4def-86a1-974e926564c5",
   "metadata": {},
   "source": [
    "Some of popular language that data scientist uses are:\n",
    "\n",
    "1. Python\n",
    "2. R\n",
    "3. SQL\n",
    "4. C++\n",
    "5. Java"
   ]
  },
  {
   "cell_type": "markdown",
   "id": "d34a506c-63c9-4d66-b28a-479ec1796f3c",
   "metadata": {},
   "source": [
    "Some of the commonly used libraries used by data scientist include:\n",
    "1. Tensor Flow\n",
    "2. NumPy\n",
    "3. SciPy\n",
    "4. Pandas\n",
    "5. Matplotlib\n",
    "6. Keras\n",
    "7. Scikit-learn\n",
    "8. PyTorch, ..etc..;"
   ]
  },
  {
   "cell_type": "markdown",
   "id": "108965ef-596d-4922-b9ac-486ab5e8d5cb",
   "metadata": {
    "tags": []
   },
   "source": [
    "|Data Science Tools|\n",
    "|---|\n",
    "|SAS|\n",
    "|Apache Hadoop|\n",
    "|Tensor Flow|"
   ]
  },
  {
   "cell_type": "markdown",
   "id": "ee51c495-2ab6-49a7-802e-6d7ee0d481be",
   "metadata": {
    "tags": []
   },
   "source": [
    "### Below are a few examples of evaluating arithmetic expressions in Python"
   ]
  },
  {
   "cell_type": "code",
   "execution_count": 4,
   "id": "924e0033-1eea-4a27-a191-94daf1a826c3",
   "metadata": {
    "tags": []
   },
   "outputs": [
    {
     "data": {
      "text/plain": [
       "17"
      ]
     },
     "execution_count": 4,
     "metadata": {},
     "output_type": "execute_result"
    }
   ],
   "source": [
    "#This is a common arithmetic example to multiply and then add integers\n",
    "(3*4)+5"
   ]
  },
  {
   "cell_type": "code",
   "execution_count": 5,
   "id": "6ae7b1d5-5d60-4063-b150-d229f1cc6295",
   "metadata": {
    "tags": []
   },
   "outputs": [
    {
     "data": {
      "text/plain": [
       "3.3333333333333335"
      ]
     },
     "execution_count": 5,
     "metadata": {},
     "output_type": "execute_result"
    }
   ],
   "source": [
    "#This will convert 200 minutes to hours\n",
    "200/60"
   ]
  },
  {
   "cell_type": "markdown",
   "id": "37446712-6922-4658-a705-d5feeb0dd9b6",
   "metadata": {
    "tags": []
   },
   "source": [
    "__Objective__\n",
    "* List Popular languages for Data Science\n",
    "* List Popular Libraries for Data Science\n",
    "* List of Well Known Data Science tools\n",
    "* How to Provide Comments in the cell"
   ]
  },
  {
   "cell_type": "markdown",
   "id": "5c26c7ac-15c5-4b7a-b42e-0b9c9fae351e",
   "metadata": {},
   "source": [
    "## Author\n",
    "Iqbaldi"
   ]
  },
  {
   "cell_type": "code",
   "execution_count": null,
   "id": "d56298b5-ccd5-4249-a0dc-d43b9488d1bf",
   "metadata": {},
   "outputs": [],
   "source": []
  }
 ],
 "metadata": {
  "kernelspec": {
   "display_name": "Python",
   "language": "python",
   "name": "conda-env-python-py"
  },
  "language_info": {
   "codemirror_mode": {
    "name": "ipython",
    "version": 3
   },
   "file_extension": ".py",
   "mimetype": "text/x-python",
   "name": "python",
   "nbconvert_exporter": "python",
   "pygments_lexer": "ipython3",
   "version": "3.7.12"
  }
 },
 "nbformat": 4,
 "nbformat_minor": 5
}
